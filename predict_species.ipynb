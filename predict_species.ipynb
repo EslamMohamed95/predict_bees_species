{
 "cells": [
  {
   "metadata": {
    "dc": {
     "key": "3"
    },
    "deletable": false,
    "editable": false,
    "run_control": {
     "frozen": true
    },
    "tags": [
     "context"
    ],
    "pycharm": {
     "name": "#%% md\n"
    }
   },
   "cell_type": "markdown",
   "source": [
    "<p><img src=\"https://assets.datacamp.com/production/project_412/img/92_notebook.jpg\" alt=\"honey bee\">\n",
    "<em>A honey bee (Apis).</em></p>\n",
    "<p>Can a machine identify a bee as a honey bee or a bumble bee? These bees have different <a href=\"https://www.thesca.org/connect/blog/bumblebees-vs-honeybees-what%E2%80%99s-difference-and-why-does-it-matter\">behaviors and appearances</a>, but given the variety of backgrounds, positions, and image resolutions, it can be a challenge for machines to tell them apart.</p>\n",
    "<p>Being able to identify bee species from images is a task that ultimately would allow researchers to more quickly and effectively collect field data. Pollinating bees have critical roles in both ecology and agriculture, and diseases like <a href=\"http://news.harvard.edu/gazette/story/2015/07/pesticide-found-in-70-percent-of-massachusetts-honey-samples/\">colony collapse disorder</a> threaten these species. Identifying different species of bees in the wild means that we can better understand the prevalence and growth of these important insects.</p>\n",
    "<p><img src=\"https://assets.datacamp.com/production/project_412/img/20_notebook.jpg\" alt=\"bumble bee\">\n",
    "<em>A bumble bee (Bombus).</em></p>\n",
    "<p>After loading and pre-processing images, this notebook walks through building a model that can automatically detect honey bees and bumble bees.</p>"
   ]
  },
  {
   "cell_type": "markdown",
   "source": [
    "## 1. Import Python libraries"
   ],
   "metadata": {
    "collapsed": false,
    "pycharm": {
     "name": "#%% md\n"
    }
   }
  },
  {
   "metadata": {
    "dc": {
     "key": "3"
    },
    "tags": [
     "sample_code"
    ],
    "trusted": true,
    "pycharm": {
     "name": "#%%\n"
    }
   },
   "cell_type": "code",
   "source": [
    "# used to change filepaths\n",
    "import os\n",
    "\n",
    "import matplotlib as mpl\n",
    "import matplotlib.pyplot as plt\n",
    "from IPython.display import display\n",
    "%matplotlib inline\n",
    "\n",
    "import pandas as pd\n",
    "import numpy as np\n",
    "\n",
    "# import Image from PIL\n",
    "from PIL import Image\n",
    "\n",
    "from skimage.feature import hog\n",
    "from skimage.color import rgb2gray\n",
    "\n",
    "from sklearn.preprocessing import StandardScaler\n",
    "from sklearn.decomposition import PCA\n",
    "\n",
    "# import train_test_split from sklearn's model selection module\n",
    "from sklearn.model_selection import train_test_split\n",
    "\n",
    "# import SVC from sklearn's svm module\n",
    "from sklearn.svm import SVC\n",
    "# import accuracy_score from sklearn's metrics module\n",
    "from sklearn.metrics import roc_curve, auc, accuracy_score"
   ],
   "execution_count": 1,
   "outputs": []
  },
  {
   "metadata": {
    "dc": {
     "key": "11"
    },
    "deletable": false,
    "editable": false,
    "run_control": {
     "frozen": true
    },
    "tags": [
     "context"
    ],
    "pycharm": {
     "name": "#%% md\n"
    }
   },
   "cell_type": "markdown",
   "source": [
    "## 2. Display image of each bee type\n",
    "<p>Now that we have all of our imports ready, it is time to look at some images. We will load our <code>labels.csv</code> file into a dataframe called <code>labels</code>, where the index is the image name (e.g. an index of 1036 refers to an image named 1036.jpg) and the <code>genus</code> column tells us the bee type. <code>genus</code> takes the value of either <code>0.0</code> (Apis or honey bee) or <code>1.0</code> (Bombus or bumble bee).</p>\n",
    "<p>The function <code>get_image</code> converts an index value from the dataframe into a file path where the image is located, opens the image using the <a href=\"https://pillow.readthedocs.io/en/5.1.x/reference/Image.html\">Image</a> object in Pillow, and then returns the image as a numpy array.</p>\n",
    "<p>We'll use this function to load the sixth Apis image and then the sixth Bombus image in the dataframe.</p>"
   ]
  },
  {
   "metadata": {
    "dc": {
     "key": "11"
    },
    "tags": [
     "sample_code"
    ],
    "trusted": true,
    "pycharm": {
     "name": "#%%\n"
    }
   },
   "cell_type": "code",
   "source": [
    "# load the labels using pandas\n",
    "labels = pd.read_csv(\"datasets/labels.csv\", index_col=0)\n",
    "\n",
    "# show the first five rows of the dataframe using head\n",
    "display(labels.head(5))\n",
    "\n",
    "def get_image(row_id, root=\"datasets/\"):\n",
    "    \"\"\"\n",
    "    Converts an image number into the file path where the image is located, \n",
    "    opens the image, and returns the image as a numpy array.\n",
    "    \"\"\"\n",
    "    filename = \"{}.jpg\".format(row_id)\n",
    "    file_path = os.path.join(root, filename)\n",
    "    img = Image.open(file_path)\n",
    "    return np.array(img)\n",
    "\n",
    "# subset the dataframe to just Apis (genus is 0.0) get the value of the sixth item in the index\n",
    "apis_row = labels[labels.genus == 0.0].index[5]\n",
    "\n",
    "# show the corresponding image of an Apis\n",
    "plt.imshow(get_image(apis_row))\n",
    "plt.show()\n",
    "\n",
    "# subset the dataframe to just Bombus (genus is 1.0) get the value of the sixth item in the index\n",
    "bombus_row = labels[labels.genus == 1.0].index[5]\n",
    "\n",
    "# show the corresponding image of a Bombus\n",
    "plt.imshow(get_image(bombus_row))\n",
    "plt.show()"
   ],
   "execution_count": 2,
   "outputs": [
    {
     "data": {
      "text/plain": "      genus\nid         \n520     1.0\n3800    1.0\n3289    1.0\n2695    1.0\n4922    1.0",
      "text/html": "<div>\n<style scoped>\n    .dataframe tbody tr th:only-of-type {\n        vertical-align: middle;\n    }\n\n    .dataframe tbody tr th {\n        vertical-align: top;\n    }\n\n    .dataframe thead th {\n        text-align: right;\n    }\n</style>\n<table border=\"1\" class=\"dataframe\">\n  <thead>\n    <tr style=\"text-align: right;\">\n      <th></th>\n      <th>genus</th>\n    </tr>\n    <tr>\n      <th>id</th>\n      <th></th>\n    </tr>\n  </thead>\n  <tbody>\n    <tr>\n      <th>520</th>\n      <td>1.0</td>\n    </tr>\n    <tr>\n      <th>3800</th>\n      <td>1.0</td>\n    </tr>\n    <tr>\n      <th>3289</th>\n      <td>1.0</td>\n    </tr>\n    <tr>\n      <th>2695</th>\n      <td>1.0</td>\n    </tr>\n    <tr>\n      <th>4922</th>\n      <td>1.0</td>\n    </tr>\n  </tbody>\n</table>\n</div>"
     },
     "metadata": {},
     "output_type": "display_data"
    },
    {
     "ename": "FileNotFoundError",
     "evalue": "[Errno 2] No such file or directory: 'datasets/2194.jpg'",
     "output_type": "error",
     "traceback": [
      "\u001B[1;31m---------------------------------------------------------------------------\u001B[0m",
      "\u001B[1;31mFileNotFoundError\u001B[0m                         Traceback (most recent call last)",
      "Input \u001B[1;32mIn [2]\u001B[0m, in \u001B[0;36m<cell line: 21>\u001B[1;34m()\u001B[0m\n\u001B[0;32m     18\u001B[0m apis_row \u001B[38;5;241m=\u001B[39m labels[labels\u001B[38;5;241m.\u001B[39mgenus \u001B[38;5;241m==\u001B[39m \u001B[38;5;241m0.0\u001B[39m]\u001B[38;5;241m.\u001B[39mindex[\u001B[38;5;241m5\u001B[39m]\n\u001B[0;32m     20\u001B[0m \u001B[38;5;66;03m# show the corresponding image of an Apis\u001B[39;00m\n\u001B[1;32m---> 21\u001B[0m plt\u001B[38;5;241m.\u001B[39mimshow(\u001B[43mget_image\u001B[49m\u001B[43m(\u001B[49m\u001B[43mapis_row\u001B[49m\u001B[43m)\u001B[49m)\n\u001B[0;32m     22\u001B[0m plt\u001B[38;5;241m.\u001B[39mshow()\n\u001B[0;32m     24\u001B[0m \u001B[38;5;66;03m# subset the dataframe to just Bombus (genus is 1.0) get the value of the sixth item in the index\u001B[39;00m\n",
      "Input \u001B[1;32mIn [2]\u001B[0m, in \u001B[0;36mget_image\u001B[1;34m(row_id, root)\u001B[0m\n\u001B[0;32m     12\u001B[0m filename \u001B[38;5;241m=\u001B[39m \u001B[38;5;124m\"\u001B[39m\u001B[38;5;132;01m{}\u001B[39;00m\u001B[38;5;124m.jpg\u001B[39m\u001B[38;5;124m\"\u001B[39m\u001B[38;5;241m.\u001B[39mformat(row_id)\n\u001B[0;32m     13\u001B[0m file_path \u001B[38;5;241m=\u001B[39m os\u001B[38;5;241m.\u001B[39mpath\u001B[38;5;241m.\u001B[39mjoin(root, filename)\n\u001B[1;32m---> 14\u001B[0m img \u001B[38;5;241m=\u001B[39m \u001B[43mImage\u001B[49m\u001B[38;5;241;43m.\u001B[39;49m\u001B[43mopen\u001B[49m\u001B[43m(\u001B[49m\u001B[43mfile_path\u001B[49m\u001B[43m)\u001B[49m\n\u001B[0;32m     15\u001B[0m \u001B[38;5;28;01mreturn\u001B[39;00m np\u001B[38;5;241m.\u001B[39marray(img)\n",
      "File \u001B[1;32m~\\anaconda3\\lib\\site-packages\\PIL\\Image.py:2953\u001B[0m, in \u001B[0;36mopen\u001B[1;34m(fp, mode, formats)\u001B[0m\n\u001B[0;32m   2950\u001B[0m     filename \u001B[38;5;241m=\u001B[39m fp\n\u001B[0;32m   2952\u001B[0m \u001B[38;5;28;01mif\u001B[39;00m filename:\n\u001B[1;32m-> 2953\u001B[0m     fp \u001B[38;5;241m=\u001B[39m \u001B[43mbuiltins\u001B[49m\u001B[38;5;241;43m.\u001B[39;49m\u001B[43mopen\u001B[49m\u001B[43m(\u001B[49m\u001B[43mfilename\u001B[49m\u001B[43m,\u001B[49m\u001B[43m \u001B[49m\u001B[38;5;124;43m\"\u001B[39;49m\u001B[38;5;124;43mrb\u001B[39;49m\u001B[38;5;124;43m\"\u001B[39;49m\u001B[43m)\u001B[49m\n\u001B[0;32m   2954\u001B[0m     exclusive_fp \u001B[38;5;241m=\u001B[39m \u001B[38;5;28;01mTrue\u001B[39;00m\n\u001B[0;32m   2956\u001B[0m \u001B[38;5;28;01mtry\u001B[39;00m:\n",
      "\u001B[1;31mFileNotFoundError\u001B[0m: [Errno 2] No such file or directory: 'datasets/2194.jpg'"
     ]
    }
   ]
  },
  {
   "metadata": {
    "dc": {
     "key": "19"
    },
    "deletable": false,
    "editable": false,
    "run_control": {
     "frozen": true
    },
    "tags": [
     "context"
    ],
    "pycharm": {
     "name": "#%% md\n"
    }
   },
   "cell_type": "markdown",
   "source": [
    "## 3. Image manipulation with rgb2gray\n",
    "<p>scikit-image has a number of image processing functions built into the library, for example, converting an image to grayscale. The <a href=\"https://scikit-image.org/docs/dev/api/skimage.color.html?highlight=rgb2#skimage.color.rgb2gray\"><code>rgb2gray</code></a> function computes the luminance of an RGB image using the following formula <code>Y = 0.2125 R + 0.7154 G + 0.0721 B</code>. </p>\n",
    "<p>Image data is represented as a matrix, where the depth is the number of channels. An RGB image has three channels (red, green, and blue) whereas the returned grayscale image has only one channel. Accordingly, the original color image has the dimensions <code>100x100x3</code> but after calling <code>rgb2gray</code>, the resulting grayscale image has only one channel, making the dimensions <code>100x100x1</code>.</p>"
   ]
  },
  {
   "metadata": {
    "dc": {
     "key": "19"
    },
    "tags": [
     "sample_code"
    ],
    "trusted": true,
    "pycharm": {
     "name": "#%%\n"
    }
   },
   "cell_type": "code",
   "source": [
    "# load a bombus image using our get_image function and bombus_row from the previous cell\n",
    "bombus = get_image(bombus_row)\n",
    "\n",
    "# print the shape of the bombus image\n",
    "print('Color bombus image has shape: ', ...)\n",
    "\n",
    "# convert the bombus image to grayscale\n",
    "gray_bombus = rgb2gray(bombus)\n",
    "\n",
    "# show the grayscale image\n",
    "plt.imshow(gray_bombus, cmap=mpl.cm.gray)\n",
    "\n",
    "# grayscale bombus image only has one channel\n",
    "print('Grayscale bombus image has shape: ', ...)"
   ],
   "execution_count": null,
   "outputs": []
  },
  {
   "metadata": {
    "dc": {
     "key": "27"
    },
    "deletable": false,
    "editable": false,
    "run_control": {
     "frozen": true
    },
    "tags": [
     "context"
    ],
    "pycharm": {
     "name": "#%% md\n"
    }
   },
   "cell_type": "markdown",
   "source": [
    "## 4. Histogram of oriented gradients\n",
    "<p>Now we need to turn these images into something that a machine learning algorithm can understand. Traditional computer vision techniques have relied on mathematical transforms to turn images into useful features. For example, you may want to detect edges of objects in an image, increase the contrast, or filter out particular colors.</p>\n",
    "<p>We've got a matrix of pixel values, but those don't contain enough interesting information on their own for most algorithms. We need to help the algorithms along by picking out some of the salient features for them using the <a href=\"http://scikit-image.org/docs/dev/auto_examples/features_detection/plot_hog.html\">histogram of oriented gradients</a> (HOG) descriptor. The idea behind <a href=\"https://en.wikipedia.org/wiki/Histogram_of_oriented_gradients\">HOG</a> is that an object's shape within an image can be inferred by its edges, and a way to identify edges is by looking at the direction of intensity gradients (i.e. changes in luminescence). </p>\n",
    "<p><img src=\"https://assets.datacamp.com/production/project_412/img/hog.png\" alt=\"HOG\"></p>\n",
    "<p>An image is divided in a grid fashion into cells, and for the pixels within each cell, a histogram of gradient directions is compiled. To improve invariance to highlights and shadows in an image, cells are block normalized, meaning an intensity value is calculated for a larger region of an image called a block and used to contrast normalize all cell-level histograms within each block. The HOG feature vector for the image is the concatenation of these cell-level histograms.</p>"
   ]
  },
  {
   "metadata": {
    "dc": {
     "key": "27"
    },
    "tags": [
     "sample_code"
    ],
    "trusted": true,
    "pycharm": {
     "name": "#%%\n"
    }
   },
   "cell_type": "code",
   "source": [
    "# run HOG using our grayscale bombus image\n",
    "hog_features, hog_image = hog(bombus,\n",
    "                              visualize=True,\n",
    "                              block_norm='L2-Hys',\n",
    "                              pixels_per_cell=(16, 16))\n",
    "\n",
    "# show our hog_image with a gray colormap\n",
    "plt.imshow(hog_image, cmap=mpl.cm.gray)"
   ],
   "execution_count": null,
   "outputs": []
  },
  {
   "metadata": {
    "dc": {
     "key": "35"
    },
    "deletable": false,
    "editable": false,
    "run_control": {
     "frozen": true
    },
    "tags": [
     "context"
    ],
    "pycharm": {
     "name": "#%% md\n"
    }
   },
   "cell_type": "markdown",
   "source": [
    "## 5. Create image features and flatten into a single row\n",
    "<p>Algorithms require data to be in a format where rows correspond to images and columns correspond to features. This means that all the information for a given image needs to be contained in a single row.</p>\n",
    "<p>We want to provide our model with the raw pixel values from our images as well as the HOG features we just calculated. To do this, we will write a function called <code>create_features</code> that combines these two sets of features by flattening the three-dimensional array into a one-dimensional (flat) array.</p>"
   ]
  },
  {
   "metadata": {
    "dc": {
     "key": "35"
    },
    "tags": [
     "sample_code"
    ],
    "trusted": true,
    "pycharm": {
     "name": "#%%\n"
    }
   },
   "cell_type": "code",
   "source": [
    "def create_features(img):\n",
    "    # flatten three channel color image\n",
    "    color_features = img.flatten()\n",
    "    # convert image to grayscale\n",
    "    gray_image = rgb2gray(img)\n",
    "    # get HOG features from grayscale image\n",
    "    hog_features = hog(gray_image, block_norm='L2-Hys', pixels_per_cell=(16, 16))\n",
    "    # combine color and hog features into a single array\n",
    "    flat_features = np.hstack([color_features , hog_features])\n",
    "    return flat_features\n",
    "\n",
    "bombus_features = create_features(bombus)\n",
    "\n",
    "# print shape of bombus_features\n",
    "bombus_features.shape"
   ],
   "execution_count": null,
   "outputs": []
  },
  {
   "metadata": {
    "dc": {
     "key": "43"
    },
    "deletable": false,
    "editable": false,
    "run_control": {
     "frozen": true
    },
    "tags": [
     "context"
    ],
    "pycharm": {
     "name": "#%% md\n"
    }
   },
   "cell_type": "markdown",
   "source": [
    "## 6. Loop over images to preprocess\n",
    "<p>Above we generated a flattened features array for the bombus image. Now it's time to loop over all of our images. We will create features for each image and then stack the flattened features arrays into a big matrix we can pass into our model.</p>\n",
    "<p>In the <code>create_feature_matrix</code> function, we'll do the following:</p>\n",
    "<ul>\n",
    "<li>Load an image</li>\n",
    "<li>Generate a row of features using the <code>create_features</code> function above</li>\n",
    "<li>Stack the rows into a features matrix</li>\n",
    "</ul>\n",
    "<p>In the resulting features matrix, rows correspond to images and columns to features.</p>"
   ]
  },
  {
   "metadata": {
    "dc": {
     "key": "43"
    },
    "tags": [
     "sample_code"
    ],
    "trusted": true,
    "collapsed": true,
    "pycharm": {
     "name": "#%%\n"
    }
   },
   "cell_type": "code",
   "source": [
    "def create_feature_matrix(label_dataframe):\n",
    "    features_list = []\n",
    "    \n",
    "    for img_id in label_dataframe.index:\n",
    "        # load image\n",
    "        img = get_image(img_id)\n",
    "        # get features for image\n",
    "        image_features = create_features(img)\n",
    "        features_list.append(image_features)\n",
    "        \n",
    "    # convert list of arrays into a matrix\n",
    "    feature_matrix = np.array(features_list)\n",
    "    return feature_matrix\n",
    "\n",
    "# run create_feature_matrix on our dataframe of images\n",
    "feature_matrix = create_feature_matrix(labels)"
   ],
   "execution_count": null,
   "outputs": []
  },
  {
   "metadata": {
    "dc": {
     "key": "51"
    },
    "deletable": false,
    "editable": false,
    "run_control": {
     "frozen": true
    },
    "tags": [
     "context"
    ],
    "pycharm": {
     "name": "#%% md\n"
    }
   },
   "cell_type": "markdown",
   "source": [
    "## 7. Split into train and test sets\n",
    "<p>Now we need to convert our data into train and test sets. We'll use 70% of images as our training data and test our model on the remaining 30%. Scikit-learn's <a href=\"http://scikit-learn.org/stable/modules/generated/sklearn.model_selection.train_test_split.html\"><code>train_test_split</code></a> function makes this easy.</p>"
   ]
  },
  {
   "metadata": {
    "dc": {
     "key": "51"
    },
    "tags": [
     "sample_code"
    ],
    "trusted": true,
    "pycharm": {
     "name": "#%%\n"
    }
   },
   "cell_type": "code",
   "source": [
    "# split the data into training and test sets\n",
    "X= feature_matrix\n",
    "y = labels.genus.values\n",
    "X_train, X_test, y_train, y_test = train_test_split(X,\n",
    "                                                    y,\n",
    "                                                    test_size=.3,\n",
    "                                                    random_state=1234123)\n",
    "\n",
    "# look at the distribution of labels in the train set\n",
    "pd.Series(y_train).value_counts()"
   ],
   "execution_count": null,
   "outputs": []
  },
  {
   "metadata": {
    "dc": {
     "key": "59"
    },
    "deletable": false,
    "editable": false,
    "run_control": {
     "frozen": true
    },
    "tags": [
     "context"
    ],
    "pycharm": {
     "name": "#%% md\n"
    }
   },
   "cell_type": "markdown",
   "source": [
    "## 8. Scale training and test features\n",
    "<p>Our features aren't quite done yet. Many machine learning methods are built to work best with data that has a mean of 0 and unit variance. Luckily, scikit-learn <a href=\"http://scikit-learn.org/stable/modules/generated/sklearn.preprocessing.StandardScaler.html\">provides a simple way</a> to rescale your data to work well using <code>StandardScaler</code>. They've got a more thorough explanation of why that is in the linked docs.</p>\n",
    "<p>We needed to split our data before scaling to avoid <em>data leakage</em>, where our model gains information about the test set. Now the data has been split, we can fit the <code>StandardScaler</code> to our training features, and use this fit to transform both sets of data.</p>"
   ]
  },
  {
   "metadata": {
    "dc": {
     "key": "59"
    },
    "tags": [
     "sample_code"
    ],
    "trusted": true,
    "pycharm": {
     "name": "#%%\n"
    }
   },
   "cell_type": "code",
   "source": [
    "# get shape of our training features\n",
    "print('Training features matrix shape is: ', ...)\n",
    "\n",
    "# define standard scaler\n",
    "ss = StandardScaler()\n",
    "\n",
    "# fit the scaler and transform the training features\n",
    "train_stand = ss.fit_transform(X_train)\n",
    "\n",
    "# transform the test features\n",
    "X_test = ss.transform(X_test)\n",
    "\n",
    "# look at the new shape of the standardized feature matrices\n",
    "print('Standardized training features matrix shape is: ', train_stand.shape)\n",
    "print('Standardized test features matrix shape is: ', X_test.shape)"
   ],
   "execution_count": null,
   "outputs": []
  },
  {
   "metadata": {
    "dc": {
     "key": "66"
    },
    "deletable": false,
    "editable": false,
    "run_control": {
     "frozen": true
    },
    "tags": [
     "context"
    ],
    "pycharm": {
     "name": "#%% md\n"
    }
   },
   "cell_type": "markdown",
   "source": [
    "## 9. Perform PCA\n",
    "<p>Remember also that we have over 31,000 features for each image and only 500 images total. To use an SVM, our model of choice, we also need to reduce the number of features we have using <a href=\"http://scikit-learn.org/stable/modules/decomposition.html#pca\">principal component analysis</a> (PCA). </p>\n",
    "<p>PCA is a way of linearly transforming the data such that most of the information in the data is contained within a smaller number of features called components. Below is a visual <a href=\"https://towardsdatascience.com/pca-using-python-scikit-learn-e653f8989e60\">example</a> from an image dataset containing handwritten numbers. The image on the left is the original image with 784 components. We can see that the image on the right (post PCA) captures the shape of the number quite effectively even with only 59 components.</p>\n",
    "<p><img src=\"https://assets.datacamp.com/production/project_412/img/pca_cropped.png\" alt=\"PCA\"></p>\n",
    "<p>In our case, we will keep 350 components. This means our feature matrices <code>train_stand</code> and <code>test_stand</code> will only have 350 columns, rather than the original of 31,296. Let's start by scaling and performing PCA on our training features. </p>\n",
    "<hr>\n",
    "<p>Note: it may take about 10 seconds for the cell to finish running as PCA is computationally intensive.</p>"
   ]
  },
  {
   "metadata": {
    "dc": {
     "key": "66"
    },
    "tags": [
     "sample_code"
    ],
    "trusted": true,
    "pycharm": {
     "name": "#%%\n"
    }
   },
   "cell_type": "code",
   "source": [
    "# Instantiate a PCA object with 350 components\n",
    "pca = PCA(n_components=350)\n",
    "\n",
    "# use fit_transform on our standardized training features\n",
    "X_train = pca.fit_transform(train_stand)\n",
    "\n",
    "# use transform on our standardized test features\n",
    "X_test = pca.transform(X_test)\n",
    "\n",
    "# look at new shape\n",
    "print('Training features matrix is: ', X_train.shape)\n",
    "print('Test features matrix is: ', X_test.shape)"
   ],
   "execution_count": null,
   "outputs": []
  },
  {
   "metadata": {
    "dc": {
     "key": "74"
    },
    "deletable": false,
    "editable": false,
    "run_control": {
     "frozen": true
    },
    "tags": [
     "context"
    ],
    "pycharm": {
     "name": "#%% md\n"
    }
   },
   "cell_type": "markdown",
   "source": [
    "## 10.Train and score our model\n",
    "<p>It's finally time to build our model! We'll use a <a href=\"http://scikit-learn.org/stable/modules/svm.html\">support vector machine</a> (SVM), a type of supervised machine learning model used for regression, classification, and outlier detection.\" An <a href=\"https://en.wikipedia.org/wiki/Support_vector_machine\">SVM model</a> is a representation of the examples as points in space, mapped so that the examples of the separate categories are divided by a clear gap that is as wide as possible. New examples are then mapped into that same space and predicted to belong to a category based on which side of the gap they fall.\"</p>\n",
    "<p>Here's a visualization of the maximum margin separating two classes using an SVM classifier with a linear kernel.\n",
    "<img src=\"https://assets.datacamp.com/production/project_412/img/svm_cropped.png\" alt=\"SVM\"></p>\n",
    "<p>Since we have a classification task -- honey or bumble bee -- we will use the support vector classifier (SVC), a type of SVM. We imported this class at the top of the notebook. We will evaluate performance using the accuracy metric.</p>"
   ]
  },
  {
   "metadata": {
    "dc": {
     "key": "74"
    },
    "tags": [
     "sample_code"
    ],
    "trusted": true,
    "pycharm": {
     "name": "#%%\n"
    }
   },
   "cell_type": "code",
   "source": [
    "# define support vector classifier\n",
    "svm = SVC(kernel='linear', probability=True , random_state=42)\n",
    "\n",
    "# fit model\n",
    "svm.fit(X_train,y_train)\n",
    "\n",
    "# generate predictions\n",
    "y_pred =svm.predict(X_test)\n",
    "\n",
    "# calculate accuracy\n",
    "accuracy = accuracy_score(y_test ,y_pred)\n",
    "print('Model accuracy is: ', accuracy)"
   ],
   "execution_count": null,
   "outputs": []
  },
  {
   "metadata": {
    "dc": {
     "key": "82"
    },
    "deletable": false,
    "editable": false,
    "run_control": {
     "frozen": true
    },
    "tags": [
     "context"
    ],
    "pycharm": {
     "name": "#%% md\n"
    }
   },
   "cell_type": "markdown",
   "source": [
    "## 11. ROC curve + AUC\n",
    "<p>Above, we used <code>svm.predict</code> to predict either <code>0.0</code> or <code>1.0</code> for each image in <code>X_test</code>. Now, we'll use <code>svm.predict_proba</code> to get the probability that <strong>each class</strong> is the true label. For example, <code>predict_proba</code> returns <code>[0.46195176, 0.53804824]</code> for the first image, meaning there is a 46% chance the bee in the image is an Apis (<code>0.0</code>) and a 53% chance the bee in the image is a Bombus (<code>1.0</code>). Note that the two probabilities for each image always sum to 1. </p>\n",
    "<p>Using the default settings, probabilities of 0.5 or above are assigned a class label of <code>1.0</code> and those below are assigned a <code>0.0</code>. However, this threshold can be adjusted. The <a href=\"https://en.wikipedia.org/wiki/Receiver_operating_characteristic\">receiver operating characteristic curve</a> (ROC curve) plots the false positive rate and true positive rate at different thresholds. ROC curves are judged visually by how close they are to the upper lefthand corner. </p>\n",
    "<p>The <a href=\"https://en.wikipedia.org/wiki/Receiver_operating_characteristic#Area_under_the_curve\">area under the curve</a> (AUC) is also calculated, where 1 means every predicted label was correct. Generally, the worst score for AUC is 0.5, which is the performance of a model that randomly guesses. See the scikit-learn documentation for more resources and examples on <a href=\"http://scikit-learn.org/stable/modules/generated/sklearn.metrics.roc_curve.html\">ROC curves</a> and <a href=\"http://scikit-learn.org/stable/modules/generated/sklearn.metrics.auc.html\">AUC</a>.</p>"
   ]
  },
  {
   "cell_type": "code",
   "execution_count": null,
   "outputs": [],
   "source": [
    "# predict probabilities for X_test using predict_proba\n",
    "probabilities = svm.predict_proba(X_test)\n",
    "\n",
    "# select the probabilities for label 1.0\n",
    "y_proba = probabilities[:,1]\n",
    "\n",
    "# calculate false positive rate and true positive rate at different thresholds\n",
    "false_positive_rate, true_positive_rate, thresholds = roc_curve(y_test, y_proba, pos_label=1)\n",
    "\n",
    "# calculate AUC\n",
    "roc_auc = auc(false_positive_rate, true_positive_rate)\n",
    "\n",
    "plt.title('Receiver Operating Characteristic')\n",
    "# plot the false positive rate on the x axis and the true positive rate on the y axis\n",
    "roc_plot = plt.plot(false_positive_rate, true_positive_rate,\n",
    "                    label='AUC = {:0.2f}'.format(roc_auc))\n",
    "\n",
    "plt.legend(loc=0)\n",
    "plt.plot([0,1], [0,1], ls='--')\n",
    "plt.ylabel('True Positive Rate')\n",
    "plt.xlabel('False Positive Rate');"
   ],
   "metadata": {
    "collapsed": false,
    "pycharm": {
     "name": "#%%\n"
    }
   }
  }
 ],
 "metadata": {
  "kernelspec": {
   "name": "python3",
   "display_name": "Python 3",
   "language": "python"
  },
  "language_info": {
   "name": "python",
   "version": "3.6.7",
   "mimetype": "text/x-python",
   "codemirror_mode": {
    "name": "ipython",
    "version": 3
   },
   "pygments_lexer": "ipython3",
   "nbconvert_exporter": "python",
   "file_extension": ".py"
  }
 },
 "nbformat": 4,
 "nbformat_minor": 2
}